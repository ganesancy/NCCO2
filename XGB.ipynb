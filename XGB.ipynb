{
 "cells": [
  {
   "cell_type": "code",
   "execution_count": 1,
   "metadata": {},
   "outputs": [],
   "source": [
    "import openpyxl\n",
    "import matplotlib as mp\n",
    "import matplotlib.pyplot as plt\n",
    "import sklearn as sl\n",
    "from sklearn.preprocessing import StandardScaler\n",
    "from sklearn import neighbors\n",
    "import xgboost as xgb\n",
    "import numpy as np\n",
    "import pandas as pd\n",
    "import xgboost as xgb\n",
    "from sklearn.model_selection import train_test_split, KFold, GridSearchCV\n",
    "from sklearn.metrics import mean_squared_error, r2_score, mean_absolute_error\n",
    "import math\n"
   ]
  },
  {
   "cell_type": "code",
   "execution_count": 2,
   "metadata": {},
   "outputs": [
    {
     "data": {
      "text/plain": [
       "(477, 22)"
      ]
     },
     "execution_count": 2,
     "metadata": {},
     "output_type": "execute_result"
    }
   ],
   "source": [
    "AA=\"C:/Users/ganes/onedrive/Desktop/AI/NCCO2R/NC-Final.xlsx\"\n",
    "df=pd.read_excel(AA)\n",
    "df.head(5)\n",
    "df=pd.read_excel(AA)\n",
    "df.head(5)\n",
    "df.shape "
   ]
  },
  {
   "cell_type": "code",
   "execution_count": 3,
   "metadata": {},
   "outputs": [],
   "source": [
    "X = pd.read_excel(AA, usecols='A:P') \n",
    "Y=pd.read_excel(AA, usecols='R')"
   ]
  },
  {
   "cell_type": "code",
   "execution_count": 4,
   "metadata": {},
   "outputs": [
    {
     "data": {
      "text/html": [
       "<div>\n",
       "<style scoped>\n",
       "    .dataframe tbody tr th:only-of-type {\n",
       "        vertical-align: middle;\n",
       "    }\n",
       "\n",
       "    .dataframe tbody tr th {\n",
       "        vertical-align: top;\n",
       "    }\n",
       "\n",
       "    .dataframe thead th {\n",
       "        text-align: right;\n",
       "    }\n",
       "</style>\n",
       "<table border=\"1\" class=\"dataframe\">\n",
       "  <thead>\n",
       "    <tr style=\"text-align: right;\">\n",
       "      <th></th>\n",
       "      <th>Quantum dot</th>\n",
       "      <th>Grahpene</th>\n",
       "      <th>Carbon</th>\n",
       "      <th>CNT</th>\n",
       "      <th>Mesoporous Carbon</th>\n",
       "      <th>Carbon Foam</th>\n",
       "      <th>Pyridinic-N</th>\n",
       "      <th>Pyrrolic-N</th>\n",
       "      <th>Grapitic-N</th>\n",
       "      <th>Quaternary-N</th>\n",
       "      <th>N-Oxide</th>\n",
       "      <th>S</th>\n",
       "      <th>Synthesis Temp</th>\n",
       "      <th>HCO3-</th>\n",
       "      <th>KOH</th>\n",
       "      <th>Potential</th>\n",
       "    </tr>\n",
       "  </thead>\n",
       "  <tbody>\n",
       "    <tr>\n",
       "      <th>0</th>\n",
       "      <td>0.0</td>\n",
       "      <td>0.0</td>\n",
       "      <td>0.0</td>\n",
       "      <td>0.0</td>\n",
       "      <td>0.93</td>\n",
       "      <td>0.0</td>\n",
       "      <td>0.026</td>\n",
       "      <td>0.028</td>\n",
       "      <td>0.016</td>\n",
       "      <td>0.0</td>\n",
       "      <td>0.0</td>\n",
       "      <td>0.0</td>\n",
       "      <td>973</td>\n",
       "      <td>0.1</td>\n",
       "      <td>0</td>\n",
       "      <td>-0.40</td>\n",
       "    </tr>\n",
       "    <tr>\n",
       "      <th>1</th>\n",
       "      <td>0.0</td>\n",
       "      <td>0.0</td>\n",
       "      <td>0.0</td>\n",
       "      <td>0.0</td>\n",
       "      <td>0.93</td>\n",
       "      <td>0.0</td>\n",
       "      <td>0.026</td>\n",
       "      <td>0.028</td>\n",
       "      <td>0.016</td>\n",
       "      <td>0.0</td>\n",
       "      <td>0.0</td>\n",
       "      <td>0.0</td>\n",
       "      <td>973</td>\n",
       "      <td>0.1</td>\n",
       "      <td>0</td>\n",
       "      <td>-0.50</td>\n",
       "    </tr>\n",
       "    <tr>\n",
       "      <th>2</th>\n",
       "      <td>0.0</td>\n",
       "      <td>0.0</td>\n",
       "      <td>0.0</td>\n",
       "      <td>0.0</td>\n",
       "      <td>0.93</td>\n",
       "      <td>0.0</td>\n",
       "      <td>0.026</td>\n",
       "      <td>0.028</td>\n",
       "      <td>0.016</td>\n",
       "      <td>0.0</td>\n",
       "      <td>0.0</td>\n",
       "      <td>0.0</td>\n",
       "      <td>973</td>\n",
       "      <td>0.1</td>\n",
       "      <td>0</td>\n",
       "      <td>-0.56</td>\n",
       "    </tr>\n",
       "    <tr>\n",
       "      <th>3</th>\n",
       "      <td>0.0</td>\n",
       "      <td>0.0</td>\n",
       "      <td>0.0</td>\n",
       "      <td>0.0</td>\n",
       "      <td>0.93</td>\n",
       "      <td>0.0</td>\n",
       "      <td>0.026</td>\n",
       "      <td>0.028</td>\n",
       "      <td>0.016</td>\n",
       "      <td>0.0</td>\n",
       "      <td>0.0</td>\n",
       "      <td>0.0</td>\n",
       "      <td>973</td>\n",
       "      <td>0.1</td>\n",
       "      <td>0</td>\n",
       "      <td>-0.60</td>\n",
       "    </tr>\n",
       "    <tr>\n",
       "      <th>4</th>\n",
       "      <td>0.0</td>\n",
       "      <td>0.0</td>\n",
       "      <td>0.0</td>\n",
       "      <td>0.0</td>\n",
       "      <td>0.93</td>\n",
       "      <td>0.0</td>\n",
       "      <td>0.026</td>\n",
       "      <td>0.028</td>\n",
       "      <td>0.016</td>\n",
       "      <td>0.0</td>\n",
       "      <td>0.0</td>\n",
       "      <td>0.0</td>\n",
       "      <td>973</td>\n",
       "      <td>0.1</td>\n",
       "      <td>0</td>\n",
       "      <td>-0.70</td>\n",
       "    </tr>\n",
       "  </tbody>\n",
       "</table>\n",
       "</div>"
      ],
      "text/plain": [
       "   Quantum dot  Grahpene  Carbon  CNT  Mesoporous Carbon  Carbon Foam  \\\n",
       "0          0.0       0.0     0.0  0.0               0.93          0.0   \n",
       "1          0.0       0.0     0.0  0.0               0.93          0.0   \n",
       "2          0.0       0.0     0.0  0.0               0.93          0.0   \n",
       "3          0.0       0.0     0.0  0.0               0.93          0.0   \n",
       "4          0.0       0.0     0.0  0.0               0.93          0.0   \n",
       "\n",
       "   Pyridinic-N  Pyrrolic-N  Grapitic-N  Quaternary-N  N-Oxide    S  \\\n",
       "0        0.026       0.028       0.016           0.0      0.0  0.0   \n",
       "1        0.026       0.028       0.016           0.0      0.0  0.0   \n",
       "2        0.026       0.028       0.016           0.0      0.0  0.0   \n",
       "3        0.026       0.028       0.016           0.0      0.0  0.0   \n",
       "4        0.026       0.028       0.016           0.0      0.0  0.0   \n",
       "\n",
       "   Synthesis Temp  HCO3-  KOH  Potential    \n",
       "0             973    0.1    0        -0.40  \n",
       "1             973    0.1    0        -0.50  \n",
       "2             973    0.1    0        -0.56  \n",
       "3             973    0.1    0        -0.60  \n",
       "4             973    0.1    0        -0.70  "
      ]
     },
     "execution_count": 4,
     "metadata": {},
     "output_type": "execute_result"
    }
   ],
   "source": [
    "X_train, X_test, y_train, y_test = train_test_split(X,Y.values.ravel(), test_size=0.2, random_state=42)\n",
    "X.shape\n",
    "X.head(5)"
   ]
  },
  {
   "cell_type": "code",
   "execution_count": 5,
   "metadata": {},
   "outputs": [
    {
     "data": {
      "text/html": [
       "<div>\n",
       "<style scoped>\n",
       "    .dataframe tbody tr th:only-of-type {\n",
       "        vertical-align: middle;\n",
       "    }\n",
       "\n",
       "    .dataframe tbody tr th {\n",
       "        vertical-align: top;\n",
       "    }\n",
       "\n",
       "    .dataframe thead th {\n",
       "        text-align: right;\n",
       "    }\n",
       "</style>\n",
       "<table border=\"1\" class=\"dataframe\">\n",
       "  <thead>\n",
       "    <tr style=\"text-align: right;\">\n",
       "      <th></th>\n",
       "      <th>CO</th>\n",
       "    </tr>\n",
       "  </thead>\n",
       "  <tbody>\n",
       "    <tr>\n",
       "      <th>0</th>\n",
       "      <td>0.000000</td>\n",
       "    </tr>\n",
       "    <tr>\n",
       "      <th>1</th>\n",
       "      <td>0.000000</td>\n",
       "    </tr>\n",
       "    <tr>\n",
       "      <th>2</th>\n",
       "      <td>0.000000</td>\n",
       "    </tr>\n",
       "    <tr>\n",
       "      <th>3</th>\n",
       "      <td>0.000000</td>\n",
       "    </tr>\n",
       "    <tr>\n",
       "      <th>4</th>\n",
       "      <td>0.666667</td>\n",
       "    </tr>\n",
       "  </tbody>\n",
       "</table>\n",
       "</div>"
      ],
      "text/plain": [
       "         CO\n",
       "0  0.000000\n",
       "1  0.000000\n",
       "2  0.000000\n",
       "3  0.000000\n",
       "4  0.666667"
      ]
     },
     "execution_count": 5,
     "metadata": {},
     "output_type": "execute_result"
    }
   ],
   "source": [
    "Y.head(5)"
   ]
  },
  {
   "cell_type": "code",
   "execution_count": 6,
   "metadata": {},
   "outputs": [],
   "source": [
    "import seaborn as sns"
   ]
  },
  {
   "cell_type": "code",
   "execution_count": 8,
   "metadata": {},
   "outputs": [
    {
     "name": "stdout",
     "output_type": "stream",
     "text": [
      "0.34799058106975383\n",
      "9.666633208316593\n",
      "mae 0.24882046110631711\n",
      "mae 6.416388236366853\n",
      "0.9998193922118\n",
      "0.8594334152456364\n"
     ]
    },
    {
     "data": {
      "image/png": "[encoded data removed]",
      "text/plain": [
       "<Figure size 640x480 with 1 Axes>"
      ]
     },
     "metadata": {},
     "output_type": "display_data"
    },
    {
     "data": {
      "image/png": "[encoded data removed]",
      "text/plain": [
       "<Figure size 640x480 with 1 Axes>"
      ]
     },
     "metadata": {},
     "output_type": "display_data"
    }
   ],
   "source": [
    "xg= xgb.XGBRegressor(random_state=22)\n",
    "xg.fit(X_train, y_train);\n",
    "predict_xg_train = xg.predict(X_train)\n",
    "predict_xg_test = xg.predict(X_test)\n",
    "mse_xg_test = mean_squared_error(y_test,predict_xg_test)\n",
    "mse_xg_train = mean_squared_error(y_train,predict_xg_train)\n",
    "mae_xg_train=mean_absolute_error(y_train,predict_xg_train)\n",
    "mae_xg_test=mean_absolute_error(y_test,predict_xg_test)\n",
    "print(math.sqrt(mse_xg_train))\n",
    "print(math.sqrt(mse_xg_test))\n",
    "print(\"mae\", mae_xg_train)\n",
    "print(\"mae\", mae_xg_test)      \n",
    "r2_xg_train = r2_score(y_train,predict_xg_train)\n",
    "r2_xg_test = r2_score(y_test,predict_xg_test)\n",
    "print(r2_xg_train)\n",
    "print(r2_xg_test)\n",
    "plt.scatter(y_train,predict_xg_train,  alpha=1, color=\"blue\")\n",
    "plt.plot([-0, 100], [-0, 100], color=\"red\", linestyle='--')\n",
    "plt.show()\n",
    "plt.scatter(y_test,predict_xg_test,  alpha=1, color=\"green\")\n",
    "plt.plot([-0, 100], [-0, 100], color=\"red\", linestyle='--')\n",
    "plt.show()"
   ]
  },
  {
   "cell_type": "code",
   "execution_count": null,
   "metadata": {},
   "outputs": [],
   "source": []
  }
 ],
 "metadata": {
  "kernelspec": {
   "display_name": "Python 3 (ipykernel)",
   "language": "python",
   "name": "python3"
  },
  "language_info": {
   "codemirror_mode": {
    "name": "ipython",
    "version": 3
   },
   "file_extension": ".py",
   "mimetype": "text/x-python",
   "name": "python",
   "nbconvert_exporter": "python",
   "pygments_lexer": "ipython3",
   "version": "3.12.4"
  }
 },
 "nbformat": 4,
 "nbformat_minor": 4
}
